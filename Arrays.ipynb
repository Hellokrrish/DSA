{
 "cells": [
  {
   "cell_type": "markdown",
   "id": "9e3c172b-6b0b-43a3-9a18-681454533f2d",
   "metadata": {},
   "source": [
    "# ARRAYS:"
   ]
  },
  {
   "cell_type": "markdown",
   "id": "d879d6b2-bfe5-448e-8776-42817866d05d",
   "metadata": {},
   "source": [
    "### 1. Given an array, check if it contains any duplicates or not."
   ]
  },
  {
   "cell_type": "code",
   "execution_count": 6,
   "id": "3b38ad0b-3330-4f9b-8185-bd74bb92b7ff",
   "metadata": {},
   "outputs": [
    {
     "name": "stdout",
     "output_type": "stream",
     "text": [
      "True\n"
     ]
    }
   ],
   "source": [
    "def contains_duplicate(arr): # define a function.\n",
    "    num_dict={}    # create a empty dictionary.\n",
    "    \n",
    "    for i in arr:        # Iterate the elements of array.\n",
    "        if i in num_dict:\n",
    "            return True \n",
    "        else: \n",
    "            num_dict[i]=1\n",
    "    return False\n",
    "arr=[1,2,4,2,5,9]  # Driver code. \n",
    "result=contains_duplicate(arr) # call the function.\n",
    "print(result) # print the result."
   ]
  },
  {
   "cell_type": "markdown",
   "id": "ef176575-c5ab-4333-b6b9-6927f590a215",
   "metadata": {},
   "source": [
    "### 2.Given an array and an integer k, rotate the array to the right by k steps."
   ]
  },
  {
   "cell_type": "code",
   "execution_count": 16,
   "id": "1b6c3399-3a48-4b6c-8471-735758f5a95c",
   "metadata": {},
   "outputs": [
    {
     "name": "stdout",
     "output_type": "stream",
     "text": [
      "[5, 6, 7, 1, 2, 3, 4]\n"
     ]
    }
   ],
   "source": [
    "def rotate_array_right(arr, k):\n",
    "    # Step 1: Take a copy of the last k elements\n",
    "    rotated_elements = arr[-k:]\n",
    "    # Step 2: Shift elements to the right by k positions\n",
    "    arr[k:] = arr[:-k]\n",
    "    # Step 3: Place the copied elements at the beginning of the array\n",
    "    arr[:k] = rotated_elements\n",
    "# Driver code\n",
    "arr = [1, 2, 3, 4, 5,6,7]\n",
    "k = 3\n",
    "rotate_array_right(arr, k)\n",
    "print(arr)"
   ]
  },
  {
   "cell_type": "markdown",
   "id": "50fed951-0c4a-40d4-8234-75a9093d1867",
   "metadata": {},
   "source": [
    "### 3. Reverse the given array in-place, means without using any extra data structure."
   ]
  },
  {
   "cell_type": "code",
   "execution_count": 24,
   "id": "64b96ab7-424c-4d0b-8180-87634e5169f8",
   "metadata": {},
   "outputs": [
    {
     "name": "stdout",
     "output_type": "stream",
     "text": [
      "[12, 9, 7, 5, 4, 2]\n"
     ]
    }
   ],
   "source": [
    "def reverse_array(arr):\n",
    "    start = 0\n",
    "    end = len(arr) - 1\n",
    "    \n",
    "    while start < end:\n",
    "        # Swap elements at start and end indices\n",
    "        arr[start], arr[end] = arr[end], arr[start]\n",
    "        # Move the pointers towards the center\n",
    "        start += 1\n",
    "        end -= 1\n",
    "# Driver code.\n",
    "arr = [2, 4, 5, 7, 9, 12]\n",
    "reverse_array(arr)\n",
    "print(arr)  "
   ]
  },
  {
   "cell_type": "markdown",
   "id": "7d7a81bd-a373-4a22-a774-7bebd4c6bb99",
   "metadata": {},
   "source": [
    "### 4. Given an array of integers, find the maximum element in an array"
   ]
  },
  {
   "cell_type": "code",
   "execution_count": 28,
   "id": "5cc36736-6179-40d1-ab6b-bea07091a329",
   "metadata": {},
   "outputs": [
    {
     "data": {
      "text/plain": [
       "20"
      ]
     },
     "execution_count": 28,
     "metadata": {},
     "output_type": "execute_result"
    }
   ],
   "source": [
    "# define a function.\n",
    "def max_elements(arr):\n",
    "        # return the maxmimum value of a array.  \n",
    "        return max(arr)\n",
    "# Driver code.\n",
    "arr=[10, 5, 20, 8, 15]\n",
    "max_elements(arr)"
   ]
  },
  {
   "cell_type": "markdown",
   "id": "56314602-7219-47f6-a731-15f196fb3631",
   "metadata": {},
   "source": [
    "### 5.Given a sorted array, remove the duplicate element without using any extra data structure."
   ]
  },
  {
   "cell_type": "code",
   "execution_count": 33,
   "id": "a0cb080f-ce06-42fb-924a-6df706efc561",
   "metadata": {},
   "outputs": [
    {
     "name": "stdout",
     "output_type": "stream",
     "text": [
      "[1, 2, 3, 4, 5]\n"
     ]
    }
   ],
   "source": [
    "# define function.\n",
    "def remove_duplicates(arr):\n",
    "    i = 0\n",
    "    for j in range(1, len(arr)):\n",
    "        if arr[j] != arr[i]:\n",
    "            i += 1\n",
    "            arr[i] = arr[j]\n",
    "    return arr[:i + 1]  # Return the unique elements\n",
    "# Driver code.\n",
    "sorted_array = [1, 1, 2, 2, 2, 3, 3, 4, 4, 4, 5, 5]\n",
    "result = remove_duplicates(sorted_array)\n",
    "print(result)"
   ]
  },
  {
   "cell_type": "code",
   "execution_count": null,
   "id": "628ab6ba-f881-4c8b-a46f-dbcb66253ee8",
   "metadata": {},
   "outputs": [],
   "source": []
  }
 ],
 "metadata": {
  "kernelspec": {
   "display_name": "Python 3 (ipykernel)",
   "language": "python",
   "name": "python3"
  },
  "language_info": {
   "codemirror_mode": {
    "name": "ipython",
    "version": 3
   },
   "file_extension": ".py",
   "mimetype": "text/x-python",
   "name": "python",
   "nbconvert_exporter": "python",
   "pygments_lexer": "ipython3",
   "version": "3.10.8"
  }
 },
 "nbformat": 4,
 "nbformat_minor": 5
}
